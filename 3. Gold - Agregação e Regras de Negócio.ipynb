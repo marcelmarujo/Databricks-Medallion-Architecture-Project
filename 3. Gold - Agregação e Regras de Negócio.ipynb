{
 "cells": [
  {
   "cell_type": "code",
   "execution_count": 0,
   "metadata": {
    "application/vnd.databricks.v1+cell": {
     "cellMetadata": {},
     "inputWidgets": {},
     "nuid": "4b1bcdfa-1787-4660-a6ad-1224694ff835",
     "showTitle": false,
     "title": ""
    }
   },
   "outputs": [],
   "source": [
    "\"\"\" Descrição do projeto Gold (Base final para BI/Analytics):\n",
    "    1- Filtrar Colunas;\n",
    "    2- Criar novas coluna com somatório de todas as batidas\n",
    "    3- Renomear colunas para deixar mais próximas da linguagem de negócio\n",
    "    4- Excluir dados com a classificação = [\"Sem Registro\",\"Não Informado\"]\n",
    "    5- Inserir Coluna com data de atualização\n",
    "    6- Salvar na camada Gold particionada por UF > 'Estado' \"\"\""
   ]
  },
  {
   "cell_type": "code",
   "execution_count": 0,
   "metadata": {
    "application/vnd.databricks.v1+cell": {
     "cellMetadata": {},
     "inputWidgets": {},
     "nuid": "fe45ac96-6466-40f4-b2ab-bf422fa78ec5",
     "showTitle": false,
     "title": ""
    }
   },
   "outputs": [],
   "source": [
    "%fs ls /mnt/Anac"
   ]
  },
  {
   "cell_type": "code",
   "execution_count": 0,
   "metadata": {
    "application/vnd.databricks.v1+cell": {
     "cellMetadata": {},
     "inputWidgets": {},
     "nuid": "77627fa9-8f4e-430d-96cf-343fdd9bb37b",
     "showTitle": false,
     "title": ""
    }
   },
   "outputs": [],
   "source": [
    "%fs ls dbfs:/mnt/ProjetoX/Silver"
   ]
  },
  {
   "cell_type": "code",
   "execution_count": 0,
   "metadata": {
    "application/vnd.databricks.v1+cell": {
     "cellMetadata": {},
     "inputWidgets": {},
     "nuid": "24ae9dbb-db6c-480f-84d8-c05b95b53bd8",
     "showTitle": false,
     "title": ""
    }
   },
   "outputs": [],
   "source": [
    "df = spark.read.parquet(\"dbfs:/mnt/ProjetoX/Silver/anac_silver.parquet\")"
   ]
  },
  {
   "cell_type": "code",
   "execution_count": 0,
   "metadata": {
    "application/vnd.databricks.v1+cell": {
     "cellMetadata": {},
     "inputWidgets": {},
     "nuid": "c4bd8103-b897-48b3-b6bd-ccb63fb3ec30",
     "showTitle": false,
     "title": ""
    }
   },
   "outputs": [],
   "source": [
    "# Selecionar apenas as colunas que o cliente pediu: \n",
    "\n",
    "#1°: Selecionar somentes colunas que o cliente/setor pediu\n",
    "colunas = ['Aerodromo_de _Destino', 'Aerodromo_de_Origem', 'Classificacao_da_Ocorrência', 'Danos_a_Aeronave',\n",
    "'Data_da_Ocorrencia', 'Municipio', 'UF', 'Regiao', 'Tipo_de _Aerodromo', 'Tipo_de_Ocorrencia',\n",
    "' Lesoes- Desconhecidas _Passageiros', 'Lesoes _Desconhecidas_Terceiros', 'Lesoes_Desconhecidas_Tripulantes',\n",
    "'Lesoes_Fatais_Passageiros', 'Lesoes_Fatais_Terceiros', 'Lesoes_Fatais_Tripulantes', 'Lesoes_Graves _Passageiros',\n",
    "'Lesoes_Graves_Terceiros', 'Lesoes_Graves_Tripulantes', 'Lesoes_Leves_Passageiros', 'Lesoes_Leves_Terceiros',\n",
    "'Lesoes_Leves_Tripulantes ']\n",
    "\n",
    "df = df. select (colunas)\n",
    "display (df)"
   ]
  },
  {
   "cell_type": "code",
   "execution_count": 0,
   "metadata": {
    "application/vnd.databricks.v1+cell": {
     "cellMetadata": {},
     "inputWidgets": {},
     "nuid": "eb609625-dcf5-43dd-9a33-8372b1977faa",
     "showTitle": false,
     "title": ""
    }
   },
   "outputs": [],
   "source": [
    "#2°: Criar uma nova coluna que faz a soma de todas as lesoes\n",
    "\n",
    "colunas_a_somar = [\n",
    "\"Lesoes_Desconhecidas_Passageiros\",\n",
    "\"Lesoes_Desconhecidas_Terceiros\",\n",
    "\"Lesoes_Desconhecidas_Tripulantes\" ,\n",
    "\"Lesoes_Fatais_Passageiros\",\n",
    "\"Lesoes_Fatais_Terceiros\"\n",
    "\"Lesoes_Fatais_Tripulantes\",\n",
    "\"Lesoes_Graves_Passageiros\",\n",
    "\"Lesoes _Graves_Terceiros\",\n",
    "\"Lesoes _Graves_Tripulantes\"\n",
    "\"Lesoes_Leves_Passageiros\",\n",
    "\"Lesoes_Leves_Terceiros\",\n",
    "\"Lesoes_Leves_Tripulantes\"\n",
    "]\n",
    "\n",
    "df = df.withColumn(\"Total_Lesoes\", sum(df[somartudo] for somartudo in colunas_a_somar))\n",
    "                   \n",
    "display(df)\n"
   ]
  },
  {
   "cell_type": "code",
   "execution_count": 0,
   "metadata": {
    "application/vnd.databricks.v1+cell": {
     "cellMetadata": {},
     "inputWidgets": {},
     "nuid": "848f4843-b133-464a-9c50-eaa704b80809",
     "showTitle": false,
     "title": ""
    }
   },
   "outputs": [],
   "source": [
    "# 3ª:renomear colunas para ficar mais intuitivas para o usuario final\n",
    "\n",
    "df = df\\\n",
    "    .withColumnRenamed ('Aerodromo_de_Destino', 'Destino') \\\n",
    "    .WithColumnRenamed ('Aerodromo_de_Origem', 'Origem')\\\n",
    "    .withColumnRenamed ('Classificacao_da_Ocorrência', 'Classificacao')\\\n",
    "    .withColumnRenamed ('Danos_a_Aeronave', 'Danos') \\\n",
    "    .withColumnRenamed ('Data_da_Ocorrencia', 'Data')\\\n",
    "    .withColumnRenamed ('UF', 'Estado')\\\n",
    "    .withColumnRenamed ('Aerodromo_de _Destino'. 'Destino') \\\n",
    "    .withColumnRenamed ('Aerodromo_de_Destino', 'Destino')\n",
    "display(df)"
   ]
  },
  {
   "cell_type": "code",
   "execution_count": 0,
   "metadata": {
    "application/vnd.databricks.v1+cell": {
     "cellMetadata": {},
     "inputWidgets": {},
     "nuid": "e5df1af6-786d-4d47-a9ea-9e77c3e5f286",
     "showTitle": false,
     "title": ""
    }
   },
   "outputs": [],
   "source": [
    "# 4 Excluir dados de estados que tenham a classificação ['Indeterminado','Sem Registro']\n",
    "# Usando o símbolo de negação (~)\n",
    "\n",
    "classificacoes_a_excluir = ['Indeterminado','Sem Registro']\n",
    "df = df.filter(~df['Estado'].isin(classificados_a_excluir))\n",
    "display(df)"
   ]
  },
  {
   "cell_type": "code",
   "execution_count": 0,
   "metadata": {
    "application/vnd.databricks.v1+cell": {
     "cellMetadata": {
      "byteLimit": 2048000,
      "rowLimit": 10000
     },
     "inputWidgets": {},
     "nuid": "7cd7217a-6543-44f1-9a4c-3b16cb271885",
     "showTitle": false,
     "title": ""
    }
   },
   "outputs": [
    {
     "output_type": "display_data",
     "data": {
      "text/html": [
       "<style scoped>\n",
       "  .table-result-container {\n",
       "    max-height: 300px;\n",
       "    overflow: auto;\n",
       "  }\n",
       "  table, th, td {\n",
       "    border: 1px solid black;\n",
       "    border-collapse: collapse;\n",
       "  }\n",
       "  th, td {\n",
       "    padding: 5px;\n",
       "  }\n",
       "  th {\n",
       "    text-align: left;\n",
       "  }\n",
       "</style><div class='table-result-container'><table class='table-result'><thead style='background-color: white'><tr><th>id</th><th>valor</th><th>Atualizacao</th></tr></thead><tbody><tr><td>1</td><td>abc</td><td>2024-07-06 15: 14: 18</td></tr><tr><td>2</td><td>def</td><td>2024-07-06 15: 14: 18</td></tr><tr><td>3</td><td>ghi</td><td>2024-07-06 15: 14: 18</td></tr></tbody></table></div>"
      ]
     },
     "metadata": {
      "application/vnd.databricks.v1+output": {
       "addedWidgets": {},
       "aggData": [],
       "aggError": "",
       "aggOverflow": false,
       "aggSchema": [],
       "aggSeriesLimitReached": false,
       "aggType": "",
       "arguments": {},
       "columnCustomDisplayInfos": {},
       "data": [
        [
         1,
         "abc",
         "2024-07-06 15: 14: 18"
        ],
        [
         2,
         "def",
         "2024-07-06 15: 14: 18"
        ],
        [
         3,
         "ghi",
         "2024-07-06 15: 14: 18"
        ]
       ],
       "datasetInfos": [],
       "dbfsResultPath": null,
       "isJsonSchema": true,
       "metadata": {},
       "overflow": false,
       "plotOptions": {
        "customPlotOptions": {},
        "displayType": "table",
        "pivotAggregation": null,
        "pivotColumns": null,
        "xColumns": null,
        "yColumns": null
       },
       "removedWidgets": [],
       "schema": [
        {
         "metadata": "{}",
         "name": "id",
         "type": "\"long\""
        },
        {
         "metadata": "{}",
         "name": "valor",
         "type": "\"string\""
        },
        {
         "metadata": "{}",
         "name": "Atualizacao",
         "type": "\"string\""
        }
       ],
       "type": "table"
      }
     },
     "output_type": "display_data"
    }
   ],
   "source": [
    "# 5 inserir coluna com nome de atualização para usuario ver quando os dados foram atualizados\n",
    "\n",
    "from pyspark.sql. functions import current_timestamp, date_format, from_utc_timestamp\n",
    "df = df.withColumn (\"Atualizacao\",\\\n",
    "     date_format( from_utc_timestamp(current_timestamp(), \"America/Sao_Paulo\"), \"yyyy-MM-dd HH: mm: ss\"))\n",
    "display(df)"
   ]
  },
  {
   "cell_type": "code",
   "execution_count": 0,
   "metadata": {
    "application/vnd.databricks.v1+cell": {
     "cellMetadata": {},
     "inputWidgets": {},
     "nuid": "14d8fd84-a2fa-483b-99ec-752903e92fe9",
     "showTitle": false,
     "title": ""
    }
   },
   "outputs": [],
   "source": [
    "# 6 Salvar na camada Gold particionada por UF > 'Estado'\n",
    "\n",
    "df.write\\\n",
    "    .mode(\"overwrite\")\\\n",
    "    .format(\"parquet\")\\\n",
    "    .partitionBy(\"Estado\")\\\n",
    "    .save('dbfs:/mnt/ProjetoX/Gold/anac_gold_particionado')    "
   ]
  }
 ],
 "metadata": {
  "application/vnd.databricks.v1+notebook": {
   "dashboards": [],
   "environmentMetadata": null,
   "language": "python",
   "notebookMetadata": {
    "pythonIndentUnit": 4
   },
   "notebookName": "3. ProjetoX - Camada Gold",
   "widgets": {}
  }
 },
 "nbformat": 4,
 "nbformat_minor": 0
}
