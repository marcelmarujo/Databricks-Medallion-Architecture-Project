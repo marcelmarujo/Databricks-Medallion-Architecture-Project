{
 "cells": [
  {
   "cell_type": "code",
   "execution_count": null,
   "metadata": {
    "application/vnd.databricks.v1+cell": {
     "cellMetadata": {
      "byteLimit": 2048000,
      "rowLimit": 10000
     },
     "inputWidgets": {},
     "nuid": "6a146306-d60c-4e24-a337-9c24187be37e",
     "showTitle": true,
     "title": "Montando Armazenamento"
    }
   },
   "outputs": [
    {
     "name": "stderr",
     "output_type": "stream",
     "text": [
      "UsageError: Line magic function `%fs` not found.\n"
     ]
    },
    {
     "data": {
      "text/plain": []
     },
     "metadata": {
      "application/vnd.databricks.v1+output": {
       "arguments": {},
       "data": "",
       "errorSummary": "<span class='ansi-red-fg'>UsageError</span>: Line magic function `%fs` not found.",
       "errorTraceType": "ansi",
       "metadata": {},
       "type": "ipynbError"
      }
     },
     "output_type": "display_data"
    }
   ],
   "source": [
    "# Criar uma pasta no Databricks para fazer vínculo. A pasta deve estar no mount point do projeto.\n",
    "\n",
    "%fs mkdirs /mnt/ProjetoX"
   ]
  },
  {
   "cell_type": "code",
   "execution_count": null,
   "metadata": {
    "application/vnd.databricks.v1+cell": {
     "cellMetadata": {},
     "inputWidgets": {},
     "nuid": "f8943114-46c9-4eca-966a-48b7d2875edb",
     "showTitle": true,
     "title": "Create a Mount point in Azure"
    }
   },
   "outputs": [],
   "source": [
    "configs = {\"fs.azure.account.auth.type\": \"OAuth\",\n",
    "          \"fs.azure.account.oauth.provider.type\": \"org.apache.hadoop.fs.azurebfs.oauth2.ClientCredsTokenProvider\",\n",
    "          \"fs.azure.account.oauth2.client.id\": \"<application-id>\",\n",
    "          \"fs.azure.account.oauth2.client.secret\": dbutils.secrets.get(scope=\"<scope-name>\",key=\"<service-credential-key-name>\"), #Não vou colocar a chave aqui :D\n",
    "          \"fs.azure.account.oauth2.client.endpoint\": \"https://login.microsoftonline.com/<directory-id>/oauth2/token\"}\n",
    "\n",
    "# Optionally, you can add <directory-name> to the source URI of your mount point.\n",
    "dbutils.fs.mount(\n",
    "  source = \"abfss://<container-name>@<storage-account-name>.dfs.core.windows.net/\",\n",
    "  mount_point = \"/mnt/<mount-name>\",\n",
    "  extra_configs = configs)"
   ]
  },
  {
   "cell_type": "code",
   "execution_count": null,
   "metadata": {
    "application/vnd.databricks.v1+cell": {
     "cellMetadata": {},
     "inputWidgets": {},
     "nuid": "46a55177-9e3a-4a29-8eeb-52da9be0bd4b",
     "showTitle": true,
     "title": "Verificar se a pasta/base raw conectou e foi ingerida corretamente"
    }
   },
   "outputs": [],
   "source": [
    "%fs ls /mnt/ProjetoX"
   ]
  }
 ],
 "metadata": {
  "application/vnd.databricks.v1+notebook": {
   "dashboards": [],
   "environmentMetadata": null,
   "language": "python",
   "notebookMetadata": {
    "pythonIndentUnit": 4
   },
   "notebookName": "1. Bronze - Import e Acesso Data Lake Storage Gen2 (ADLS)",
   "widgets": {}
  },
  "language_info": {
   "name": "python"
  }
 },
 "nbformat": 4,
 "nbformat_minor": 0
}
