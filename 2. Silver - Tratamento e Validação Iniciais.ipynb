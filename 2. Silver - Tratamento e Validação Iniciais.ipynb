{
 "cells": [
  {
   "cell_type": "code",
   "execution_count": 0,
   "metadata": {
    "application/vnd.databricks.v1+cell": {
     "cellMetadata": {},
     "inputWidgets": {},
     "nuid": "e73ccb03-a17b-4481-8310-5b24c1bf7aab",
     "showTitle": true,
     "title": "Listando a camada bronze para verificar o arquivo que vamos trazer e transformar"
    }
   },
   "outputs": [],
   "source": [
    "%fs ls dbfs:/mnt/Anac/Bronze"
   ]
  },
  {
   "cell_type": "code",
   "execution_count": 0,
   "metadata": {
    "application/vnd.databricks.v1+cell": {
     "cellMetadata": {},
     "inputWidgets": {},
     "nuid": "99f03f65-cb48-4c3e-9ab5-03bf6e14fdee",
     "showTitle": true,
     "title": "Importando o arquivo"
    }
   },
   "outputs": [],
   "source": [
    "df = spark.read.json(\"dbfs:/mnt/Anac/Bronze/V_OCORRENCIA_AMPLA.json)\n",
    "display(df)"
   ]
  },
  {
   "cell_type": "code",
   "execution_count": 0,
   "metadata": {
    "application/vnd.databricks.v1+cell": {
     "cellMetadata": {},
     "inputWidgets": {},
     "nuid": "3c78de97-8bc1-478e-a04b-9e0d2ddc8ac6",
     "showTitle": true,
     "title": "Visualizando as colunas dele para saber o que precisa tratar"
    }
   },
   "outputs": [],
   "source": [
    "print(df.columns)"
   ]
  },
  {
   "cell_type": "code",
   "execution_count": 0,
   "metadata": {
    "application/vnd.databricks.v1+cell": {
     "cellMetadata": {},
     "inputWidgets": {},
     "nuid": "9925b998-f6dc-46f9-b565-cca56a6be08a",
     "showTitle": true,
     "title": "Substituindo as colunas de texto NULL para 'Sem Registro'"
    }
   },
   "outputs": [],
   "source": [
    "# Pegando todas as colunas que preciso substituir e declarando como variável\n",
    "colunas = ['Aerodromo_de_Destino','Aerodromo_Origem','Categoria_Aeronave']\n",
    "\n",
    "#Percorrer todas as colunas e fazer a mesma coisa para todas selecionadas na variável\n",
    "for ajuste in colunas:\n",
    "    df = df.fillna('Sem Registro', subset=[ajuste])\n",
    "\n",
    "display(df)"
   ]
  },
  {
   "cell_type": "code",
   "execution_count": 0,
   "metadata": {
    "application/vnd.databricks.v1+cell": {
     "cellMetadata": {},
     "inputWidgets": {},
     "nuid": "61214410-efc9-4d31-9764-cc93f6db20a8",
     "showTitle": true,
     "title": "Converter tipo de colunas de forma MANUAL"
    }
   },
   "outputs": [],
   "source": [
    "# Convertendo colunas 'str' para 'int' e já trocar NULL por '0'\n",
    "\n",
    "# Fixando Função LOOP\n",
    "\n",
    "coluna_converter = 'Lesoes_Desconhecidas_Passageiros'\n",
    "df = df\\\n",
    "    .withColumn(coluna_converter, df[coluna_converter].cast(\"int\"))\\\n",
    "    .fillna(0, subset=[coluna_converter])\n",
    "display(df)"
   ]
  },
  {
   "cell_type": "code",
   "execution_count": 0,
   "metadata": {
    "application/vnd.databricks.v1+cell": {
     "cellMetadata": {},
     "inputWidgets": {},
     "nuid": "1afd778e-b345-44aa-91dc-7a9633ba3f38",
     "showTitle": true,
     "title": "Converter tipo de colunas de forma AUTOMÁTICA"
    }
   },
   "outputs": [],
   "source": [
    "# Convertendo colunas 'str' para 'int' e já trocar NULL por '0'\n",
    "\n",
    "ajuste_int = ['Aerodromo_de_Destino','Aerodromo_Origem','Categoria_Aeronave','Aerodromo_de_Destino','Aerodromo_Origem','Categoria_Aeronave','Aerodromo_de_Destino','Aerodromo_Origem','Categoria_Aeronave','Aerodromo_de_Destino','Aerodromo_Origem','Categoria_Aeronave']\n",
    "\n",
    "for Loop1 in ajuste_int\n",
    "df = df\\\n",
    "    .withColumn(Loop1, df[Loop1].cast(\"int\"))\\\n",
    "    .fillna(0, subset=[Loop1])\n",
    "display(df)"
   ]
  },
  {
   "cell_type": "code",
   "execution_count": 0,
   "metadata": {
    "application/vnd.databricks.v1+cell": {
     "cellMetadata": {},
     "inputWidgets": {},
     "nuid": "e611534b-a6b7-485c-ad9f-e0f824a3e0fb",
     "showTitle": false,
     "title": ""
    }
   },
   "outputs": [],
   "source": [
    "#Verificando se a criação deu certo\n",
    "\n",
    "%fs ls dbfs:/mnt/ProjetoX"
   ]
  },
  {
   "cell_type": "code",
   "execution_count": 0,
   "metadata": {
    "application/vnd.databricks.v1+cell": {
     "cellMetadata": {},
     "inputWidgets": {},
     "nuid": "9aac40af-9a0f-4822-9b53-d0cc8cd5ed98",
     "showTitle": false,
     "title": ""
    }
   },
   "outputs": [],
   "source": [
    "# Salvando na pasta SILVER em formato DELTA (Origem era JSON, mas parquet é melhor)\n",
    "\n",
    "df.write.mode(\"overwrite\").parquet(\"dbfs:/mnt/ProjetoX/Silver/anac_silver.parquet)"
   ]
  },
  {
   "cell_type": "code",
   "execution_count": 0,
   "metadata": {
    "application/vnd.databricks.v1+cell": {
     "cellMetadata": {},
     "inputWidgets": {},
     "nuid": "49d91971-bdb8-4272-93de-af3b321637ee",
     "showTitle": false,
     "title": ""
    }
   },
   "outputs": [],
   "source": [
    "# Verificando se o salvamento na Pasta SILVER deu certo\n",
    "\n",
    "%fs ls dbfs:/mnt/ProjetoX/Silver"
   ]
  },
  {
   "cell_type": "code",
   "execution_count": 0,
   "metadata": {
    "application/vnd.databricks.v1+cell": {
     "cellMetadata": {},
     "inputWidgets": {},
     "nuid": "c2976773-7dba-4a28-a206-52be7687da31",
     "showTitle": false,
     "title": ""
    }
   },
   "outputs": [],
   "source": [
    "# Ler esse novo arquivo que foi salvo agora em Parquet\n",
    "\n",
    "display(spark.read.parquet(\"dbfs:/mnt/ProjetoX/Silver/anac_silver.parquet/\"))"
   ]
  },
  {
   "cell_type": "code",
   "execution_count": 0,
   "metadata": {
    "application/vnd.databricks.v1+cell": {
     "cellMetadata": {},
     "inputWidgets": {},
     "nuid": "3d0e65f8-47d4-4cff-8cf3-1ec836b95fe8",
     "showTitle": false,
     "title": ""
    }
   },
   "outputs": [],
   "source": [
    "# Salvando novamente na camada SILVER o mesmo arquivo e comando, só pra garantir\n",
    "\n",
    "df.write.mode(\"overwrite\").parquet(\"dbfs:/mnt/ProjetoX/Silver/anac_silver.parquet)"
   ]
  }
 ],
 "metadata": {
  "application/vnd.databricks.v1+notebook": {
   "dashboards": [],
   "environmentMetadata": null,
   "language": "python",
   "notebookMetadata": {
    "pythonIndentUnit": 4
   },
   "notebookName": "2. ProjetoX - Camada Silver",
   "widgets": {}
  }
 },
 "nbformat": 4,
 "nbformat_minor": 0
}
